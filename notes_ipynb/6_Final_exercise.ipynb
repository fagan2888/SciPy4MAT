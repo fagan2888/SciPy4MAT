{
 "metadata": {
  "name": ""
 },
 "nbformat": 3,
 "nbformat_minor": 0,
 "worksheets": [
  {
   "cells": [
    {
     "cell_type": "code",
     "collapsed": false,
     "input": [
      "import os\n",
      "import matplotlib.pyplot as plt\n",
      "import numpy as np\n",
      "import pandas as pd\n",
      "\n",
      "os.chdir('D:/Dropbox/Scripts/SciPy4MAT/')"
     ],
     "language": "python",
     "metadata": {},
     "outputs": [],
     "prompt_number": 3
    },
    {
     "cell_type": "code",
     "collapsed": false,
     "input": [
      "pco2_name = './data/SANAE 50 L4_socat_1.0.csv'"
     ],
     "language": "python",
     "metadata": {},
     "outputs": [],
     "prompt_number": 24
    },
    {
     "cell_type": "markdown",
     "metadata": {},
     "source": [
      "### Your Tasks\n",
      "\n",
      "1. Your task in this final exercise is to import the pCO2 data from the file listed above. First plot temperature and pCO2 on the same set of axes with time as the x-axis. \n",
      "2. The next part you will import the corresponding temperature data. Plot the in-situ temperature data (as `scatter`) against the remote sensed data (plot as `pcolormesh` - take the average temperature of the period). These files are in `./data`\n",
      "3. Finally, plot the difference between temperatures from the two data sets with latitude as the x-axis. You will need to extract matching data from the remote sensed data. \n",
      "\n",
      "Good luck!"
     ]
    },
    {
     "cell_type": "code",
     "collapsed": false,
     "input": [],
     "language": "python",
     "metadata": {},
     "outputs": [],
     "prompt_number": 24
    },
    {
     "cell_type": "code",
     "collapsed": false,
     "input": [],
     "language": "python",
     "metadata": {},
     "outputs": []
    }
   ],
   "metadata": {}
  }
 ]
}