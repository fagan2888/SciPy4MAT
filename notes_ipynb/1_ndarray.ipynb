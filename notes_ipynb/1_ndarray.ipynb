{
 "metadata": {
  "name": ""
 },
 "nbformat": 3,
 "nbformat_minor": 0,
 "worksheets": [
  {
   "cells": [
    {
     "cell_type": "markdown",
     "metadata": {},
     "source": [
      "`numpy` and the `ndarray`\n",
      "===========================\n",
      "Basic Python is actually not very good for scientific computing. Everything has to be done in loops and vectorisation is not an option. The introduction of numpy changes all of that! With this package, numpy behaves very similarly to MATLAB. The most useful Class object in the numpy package is the **ndarray** (n-dimensional array)\n",
      "\n",
      "In this document you'll look at the following:\n",
      "\n",
      "1. [Python lists](#PYTHON-LISTS)\n",
      "2. [Numpy Arrays](#NUMPY-ARRAYS)\n",
      "  1. [Indexing](#Indexing)\n",
      "  2. [Matrix Multiplication](#Matrix-multiplication)\n",
      "  3. [Conditional Indexing](#Conditional-Indexing)\n",
      "  \n",
      "TASKS:\n",
      "\n",
      "+ [Task 1.1](#task11) - Basic List manipulation\n",
      "+ [Task 1.2](#task12) - Array creation and basic manipulation\n",
      "+ [Task 1.3](#task13) - Matrix multiplication\n",
      "+ [Task 1.4](#task14) - A speed tip with matrix multiplication\n",
      "+ [Task 1.5](#task15) - Logical indexing"
     ]
    },
    {
     "cell_type": "code",
     "collapsed": false,
     "input": [
      "# preamble\n",
      "import os\n",
      "import numpy as np\n",
      "import math\n",
      "import pylab as plt\n",
      "\n",
      "os.chdir('D:\\\\Dropbox\\\\Scripts\\\\SciPy4MAT')\n",
      "from exercise_tools import print_sublists, avail_methods"
     ],
     "language": "python",
     "metadata": {},
     "outputs": [],
     "prompt_number": 1
    },
    {
     "cell_type": "heading",
     "level": 2,
     "metadata": {},
     "source": [
      "PYTHON LISTS"
     ]
    },
    {
     "cell_type": "markdown",
     "metadata": {},
     "source": [
      "In order to understand the numpy array, we need to understand regular lists first. We will show that a list in Python is nothing more than a container for other Python objects: lists, tuples, characters, classes, "
     ]
    },
    {
     "cell_type": "code",
     "collapsed": false,
     "input": [
      "x0 = 152\n",
      "x1 = 'Lists can be different data types and different lengths'\n",
      "x2 = [1, 2, 3, 5, 6, 11, 14, 15, 17, 17] # creating two increasing arrays\n",
      "x3 = range(1,100,6)[::-1] # reverse the second array\n",
      "x4 = sum\n",
      "x5 = 152.\n",
      "\n",
      "X = [x0, x1, x2, x3, x4, x5] # combine the two arrays into lists of lists\n",
      "print X\n",
      "\n",
      "print_sublists(X) # a script I wrote and imported in the preamble"
     ],
     "language": "python",
     "metadata": {},
     "outputs": [
      {
       "output_type": "stream",
       "stream": "stdout",
       "text": [
        "[152, 'Lists can be different data types and different lengths', [1, 2, 3, 5, 6, 11, 14, 15, 17, 17], [97, 91, 85, 79, 73, 67, 61, 55, 49, 43, 37, 31, 25, 19, 13, 7, 1], <function sum at 0x029CCDF0>, 152.0]\n",
        "== A NICER REPRESSENTAION ==\n",
        "Index\tLength\tObject Type\n",
        "0\tNA\tint\n",
        "1\t55\tstr\n",
        "2\t10\tlist\n",
        "3\t17\tlist\n",
        "4\tNA\tfunction\n",
        "5\tNA\tfloat\n",
        "===========================\n"
       ]
      }
     ],
     "prompt_number": 2
    },
    {
     "cell_type": "markdown",
     "metadata": {},
     "source": [
      "<a name=task11>**TASK 1.1:**</a> Now get the sum of the *i <sup>th</sup>* row for each column. The two arrays are not the same length, so use the first *n=10* of the longer. Once you have this, get the square root for each. "
     ]
    },
    {
     "cell_type": "code",
     "collapsed": false,
     "input": [
      "\n",
      "# a loop to get you started\n",
      "X = []\n",
      "for i in range(len(x2)):\n",
      "    # YOUR CODE HERE\n",
      "    temp = x2[i] + x3[i]  # hint\n",
      "    temp = math.sqrt(temp)\n",
      "    \n",
      "    X.append(temp)\n",
      "print [math.sqrt(x2[i] + x3[i]) for i in range(len(x2))]\n",
      "print 'X:', X"
     ],
     "language": "python",
     "metadata": {},
     "outputs": [
      {
       "output_type": "stream",
       "stream": "stdout",
       "text": [
        "[9.899494936611665, 9.643650760992955, 9.38083151964686, 9.16515138991168, 8.888194417315589, 8.831760866327848, 8.660254037844387, 8.366600265340756, 8.12403840463596, 7.745966692414834]\n",
        "X: [9.899494936611665, 9.643650760992955, 9.38083151964686, 9.16515138991168, 8.888194417315589, 8.831760866327848, 8.660254037844387, 8.366600265340756, 8.12403840463596, 7.745966692414834]\n"
       ]
      }
     ],
     "prompt_number": 14
    },
    {
     "cell_type": "heading",
     "level": 2,
     "metadata": {},
     "source": [
      "NUMPY ARRAYS"
     ]
    },
    {
     "cell_type": "markdown",
     "metadata": {},
     "source": [
      "Numpy arrays are far more flexible than lists. The way they operate is similar to MATLAB arrays. There some differences which we'll look at.\n",
      "\n",
      "\n",
      "**More Methods:** With numpy we have many more methods! To see what you can do with a numpy array, run the cell below; then type `Y.[TAB]` or type `dir(Y)`. I've written a little function that neatens the output of `dir(obj)`, it's called `avail_methods` and is imported in the preamble. "
     ]
    },
    {
     "cell_type": "code",
     "collapsed": false,
     "input": [
      "# set to  1/True to display output or 0/Flase/None\n",
      "print '\\nLIST';    avail_methods(dir(list))\n",
      "print '\\nNDARRAY'; avail_methods(dir(np.ndarray))"
     ],
     "language": "python",
     "metadata": {},
     "outputs": [
      {
       "output_type": "stream",
       "stream": "stdout",
       "text": [
        "\n",
        "LIST\n",
        "['append', 'count', 'extend', 'index', 'insert', 'pop', 'remove', 'reverse', 'sort']\n",
        "\n",
        "NDARRAY\n",
        "['T', 'all', 'any', 'argmax', 'argmin', 'argsort', 'astype', 'base', 'byteswap', 'choose', 'clip', 'compress', 'conj', 'conjugate', 'copy', 'ctypes', 'cumprod', 'cumsum', 'data', 'diagonal', 'dot', 'dtype', 'dump', 'dumps', 'fill', 'flags', 'flat', 'flatten', 'getfield', 'imag', 'item', 'itemset', 'itemsize', 'max', 'mean', 'min', 'nbytes', 'ndim', 'newbyteorder', 'nonzero', 'prod', 'ptp', 'put', 'ravel', 'real', 'repeat', 'reshape', 'resize', 'round', 'searchsorted', 'setfield', 'setflags', 'shape', 'size', 'sort', 'squeeze', 'std', 'strides', 'sum', 'swapaxes', 'take', 'tofile', 'tolist', 'tostring', 'trace', 'transpose', 'var', 'view']\n"
       ]
      }
     ],
     "prompt_number": 11
    },
    {
     "cell_type": "heading",
     "level": 3,
     "metadata": {},
     "source": [
      "Creating a numpy array"
     ]
    },
    {
     "cell_type": "markdown",
     "metadata": {},
     "source": [
      "When creating a numpy array, imagine that you are passing a list of floats/int/str to the np.array function. It will only recognise lists and tuples `np.array([5, 6, 7])` and not `np.array(5, 6, 7)`.\n",
      "\n",
      "<a name=task12>**TASK 1.2:**</a> Now try to combine lists `x2` and `x3` into an ndarray obj. Once you have this do the same as  TASK 1.1, but using ndarray and no loops. You should get a `(10, 2)` ndarray. Use `Y.shape` to see the `size(Y)` \n",
      "**HINT**: ndarray columns have to be the same length. "
     ]
    },
    {
     "cell_type": "code",
     "collapsed": false,
     "input": [
      "# YOUR CODE HERE\n",
      "Y = np.array( [x2, x3[:len(x2)]] ).T\n",
      "\n",
      "np.sq(Y.sum(axis=1))"
     ],
     "language": "python",
     "metadata": {},
     "outputs": [
      {
       "metadata": {},
       "output_type": "pyout",
       "prompt_number": 21,
       "text": [
        "array([98, 93, 88, 84, 79, 78, 75, 70, 66, 60])"
       ]
      }
     ],
     "prompt_number": 21
    },
    {
     "cell_type": "heading",
     "level": 4,
     "metadata": {},
     "source": [
      "Empty Arrays"
     ]
    },
    {
     "cell_type": "markdown",
     "metadata": {},
     "source": [
      "For making empty arrays you can use `np.zeros, np.zeros_like, np.ones, np.ones_like, np.ndarray`. Of these `np.ndarray` is the quickest if you're making big arrays. This is due to the fact that `ndarray` does not make values exactly 0 - this method is useful if you are creating an array for preassignment."
     ]
    },
    {
     "cell_type": "code",
     "collapsed": false,
     "input": [
      "shape = (100, 100)\n",
      "# for np.ndarray/ones/zeros enter the shape \n",
      "%timeit np.ndarray( shape )\n",
      "%timeit np.zeros( shape )\n",
      "%timeit np.ones( shape )"
     ],
     "language": "python",
     "metadata": {},
     "outputs": [
      {
       "output_type": "stream",
       "stream": "stdout",
       "text": [
        "1000000 loops, best of 3: 1.58 \u00b5s per loop\n",
        "100000 loops, best of 3: 7.95 \u00b5s per loop"
       ]
      },
      {
       "output_type": "stream",
       "stream": "stdout",
       "text": [
        "\n",
        "10000 loops, best of 3: 95.4 \u00b5s per loop"
       ]
      },
      {
       "output_type": "stream",
       "stream": "stdout",
       "text": [
        "\n"
       ]
      }
     ],
     "prompt_number": 23
    },
    {
     "cell_type": "heading",
     "level": 4,
     "metadata": {},
     "source": [
      "Sequence"
     ]
    },
    {
     "cell_type": "markdown",
     "metadata": {},
     "source": [
      "In MATLAB making a sequence is easy - `1:0.5:10`. Python has range, but this only does intigers and is not very flexible. Numpy has `np.arange` - the leading `a` is just so names are not confused if you import numpy into the \\_\\_main\\_\\_ namespace (also with `np.around`). Avoid `range`, it is slow. \n",
      "\n",
      "Note that `xrange`, a generator object *for loops only *is faster than any other methods as no data is stored.\n",
      "\n",
      "**NB:** When using `arange` or `xrange`, it is not inclusive of the end number.\n",
      "\n",
      "+ MATLAB: `[2:6]             [ 2  3  4  5  6]`\n",
      "+ PYTHON: `  np.arange(2,6)    [ 2  3  4  5]`\n",
      "+ PYTHON: `  np.arange(2,6.01) [ 2  3  4  5  6]` "
     ]
    },
    {
     "cell_type": "code",
     "collapsed": false,
     "input": [
      "n = int(1e4)\n",
      "%timeit range(0,n,10)\n",
      "%timeit np.arange(0,n,10)\n",
      "%timeit xrange(0,n,10)\n",
      "\n",
      "for i in xrange(10):\n",
      "    print i, # comma after print means that all output is printed on the same line"
     ],
     "language": "python",
     "metadata": {},
     "outputs": [
      {
       "output_type": "stream",
       "stream": "stdout",
       "text": [
        "100000 loops, best of 3: 15.9 \u00b5s per loop\n",
        "100000 loops, best of 3: 2.77 \u00b5s per loop"
       ]
      },
      {
       "output_type": "stream",
       "stream": "stdout",
       "text": [
        "\n",
        "1000000 loops, best of 3: 474 ns per loop"
       ]
      },
      {
       "output_type": "stream",
       "stream": "stdout",
       "text": [
        "\n",
        "[]\n",
        "0 1 2 3 4 5 6 7 8 9\n"
       ]
      }
     ],
     "prompt_number": 25
    },
    {
     "cell_type": "heading",
     "level": 3,
     "metadata": {},
     "source": [
      "Indexing"
     ]
    },
    {
     "cell_type": "markdown",
     "metadata": {},
     "source": [
      "One of the major things to keep in mind when using numpy is that arrays index differently to MATLAB. In MATLAB any object has two dimensions, i.e. `[5, 1]`. In numpy you can get an ndarray with `[5]` and `[5,1]`. \n",
      "\n",
      "In nested Python Lists one can't index like in MATLAB. It has to be sequential. In numpy, we can index like MATLAB, bearing in mind that we start indexing in 0."
     ]
    },
    {
     "cell_type": "code",
     "collapsed": false,
     "input": [
      "D = np.array(x3)\n",
      "E = np.array(x3, ndmin=2)\n",
      "print 'Shapes of 1D vs 2D'\n",
      "print D.shape, E.shape\n",
      "\n",
      "X = [ x2, x3[:len(x2)] ]\n",
      "print '\\nLIST vs ARRAY indexing'\n",
      "print    X[1][5],   Y[5,1]"
     ],
     "language": "python",
     "metadata": {},
     "outputs": [
      {
       "output_type": "stream",
       "stream": "stdout",
       "text": [
        "Shapes of 1D vs 2D\n",
        "(17,) (1, 17)\n",
        "\n",
        "LIST vs ARRAY indexing\n",
        "67 67\n"
       ]
      }
     ],
     "prompt_number": 33
    },
    {
     "cell_type": "heading",
     "level": 3,
     "metadata": {},
     "source": [
      "Matrix multiplication"
     ]
    },
    {
     "cell_type": "markdown",
     "metadata": {},
     "source": [
      "There are two ways of doing matrix multiplication that I've shown below. note that with matrix multiplication, the inner dimensions must match so to multiply `A` and `B`, we need to transpose at least one of the matricies. However, if we use `np.inner`, this is done automatically and `np.inner` is also slightly faster. Below I've set up differet cells to show you how to time functions using cell magic - this is great for prototyping. For more options on matrix multiplication, check out `np.linalg...`\n",
      "\n",
      "**A note on speed:** Python and MATLAB have very simlar performance when it comes to matrix operations (if you use the right implimentation in Python). This is because they both use the BLAS library (Basic Linear Algebra Subprogram) written in Fortran."
     ]
    },
    {
     "cell_type": "code",
     "collapsed": false,
     "input": [
      "A = np.random.rand(100, 40) / 0.3 # scalar division is easy\n",
      "B = np.random.rand(500, 40) * 10 # scalar multiplication is easy\n",
      "\n",
      "print A.shape\n",
      "print B.shape"
     ],
     "language": "python",
     "metadata": {},
     "outputs": [
      {
       "output_type": "stream",
       "stream": "stdout",
       "text": [
        "(100, 40)\n",
        "(500, 40)\n"
       ]
      }
     ],
     "prompt_number": 34
    },
    {
     "cell_type": "code",
     "collapsed": false,
     "input": [
      "%%timeit\n",
      "matrix_mult_option_1 = np.inner(B, A)"
     ],
     "language": "python",
     "metadata": {},
     "outputs": [
      {
       "output_type": "stream",
       "stream": "stdout",
       "text": [
        "1000 loops, best of 3: 374 \u00b5s per loop\n"
       ]
      }
     ],
     "prompt_number": 35
    },
    {
     "cell_type": "markdown",
     "metadata": {},
     "source": [
      "<a name=task13>**TASK 1.3:**</a> Compare the speed of the two matrix multiplication methods by completing the cell below"
     ]
    },
    {
     "cell_type": "code",
     "collapsed": false,
     "input": [
      "%%timeit\n",
      "MA = np.matrix(A)\n",
      "# complete the rest"
     ],
     "language": "python",
     "metadata": {},
     "outputs": [
      {
       "output_type": "stream",
       "stream": "stdout",
       "text": [
        "10000 loops, best of 3: 16.7 \u00b5s per loop\n"
       ]
      }
     ],
     "prompt_number": 214
    },
    {
     "cell_type": "markdown",
     "metadata": {},
     "source": [
      "In the case shown above, the latter is likely slower due to the overhead in setting up and calling the functions. This can be seen by changing \n",
      "\n",
      "**TIP:** When you need to get the sum of squares for two vectors, it is more than 5 times quicker doing it using the `np.inner` command. This is because of the BLAS library\n",
      "\n",
      "<a name=task14>**TASK 1.4:**</a> Use the BLAS library (`np.inner`) to calculate the sum of squares and then compare the computation time to the two other ways of calculating sum of squares"
     ]
    },
    {
     "cell_type": "code",
     "collapsed": false,
     "input": [
      "C = np.random.rand(200000)\n",
      "# YOUR CODE HERE\n",
      "%timeit pass\n",
      "\n"
     ],
     "language": "python",
     "metadata": {},
     "outputs": [
      {
       "output_type": "stream",
       "stream": "stdout",
       "text": [
        "10000000 loops, best of 3: 22.8 ns per loop\n",
        "66777.1855277\n",
        "66777.1855277\n"
       ]
      }
     ],
     "prompt_number": 37
    },
    {
     "cell_type": "heading",
     "level": 3,
     "metadata": {},
     "source": [
      "Conditional Indexing"
     ]
    },
    {
     "cell_type": "markdown",
     "metadata": {},
     "source": [
      "What if we want to find objects meeting certain conditions? In MATLAB we can use `find`. Matplotlib also has a `find` function, but more pythonic is the `np.where` function/method. Note that the output from `find` is 1D and `where` is nD (`ndim`). Thus when using `find` for a multidimensional array we need to flatten the array first. \n",
      "\n",
      "**Logical Indexing:** This is much faster than using `where` or `find`, which returns the index numbers. With logical indexing it returns a boolean array i.e. `[ True  False  False  True  True]`. In MATLAB this is the same as `[ 1  0  0  1  1]`. Passing these an index will return an array of length 3.\n",
      "\n",
      "`np.where` is useful when you need to find certain rows / columns "
     ]
    },
    {
     "cell_type": "code",
     "collapsed": false,
     "input": [
      "K = np.random.rand(4, 4, 4)\n",
      "\n",
      "ind = np.where(K > 0.9)\n",
      "print K[ind]\n",
      "print K[K>.9]"
     ],
     "language": "python",
     "metadata": {},
     "outputs": [
      {
       "output_type": "stream",
       "stream": "stdout",
       "text": [
        "[ 0.95798196  0.90879722  0.9902744   0.96500521  0.95634312  0.98508196\n",
        "  0.98507609]\n",
        "[ 0.95798196  0.90879722  0.9902744   0.96500521  0.95634312  0.98508196\n",
        "  0.98507609]\n"
       ]
      }
     ],
     "prompt_number": 49
    },
    {
     "cell_type": "code",
     "collapsed": false,
     "input": [
      "%timeit np.where(K > 0.9)\n",
      "%timeit plt.find(K > 0.9)\n",
      "%timeit K > 0.9"
     ],
     "language": "python",
     "metadata": {},
     "outputs": [
      {
       "output_type": "stream",
       "stream": "stdout",
       "text": [
        "100000 loops, best of 3: 9.28 \u00b5s per loop\n",
        "100000 loops, best of 3: 11 \u00b5s per loop"
       ]
      },
      {
       "output_type": "stream",
       "stream": "stdout",
       "text": [
        "\n",
        "100000 loops, best of 3: 3.38 \u00b5s per loop"
       ]
      },
      {
       "output_type": "stream",
       "stream": "stdout",
       "text": [
        "\n"
       ]
      }
     ],
     "prompt_number": 50
    },
    {
     "cell_type": "markdown",
     "metadata": {},
     "source": [
      "<a name=task15>**TASK 1.5:**</a> Use logical indexing to find the number of items in the bins `[-4 : 0.5 : 4]` in a normally distributed random array that has *N*=1 000 000"
     ]
    },
    {
     "cell_type": "code",
     "collapsed": false,
     "input": [
      "step_size = 0.05\n",
      "N = 1e6\n",
      "p_min, p_max = -4, 4\n",
      "p = np.random.normal(size=N)\n",
      "\n",
      "## YOUR CODE HERE\n",
      "bins = np.arange(-4, 4.5, 0.5)\n",
      "\n",
      "p_dist = []\n",
      "for start_bin in bins:\n",
      "    end_bin = start_bin + 0.5\n",
      "    \n",
      "    num_in_bin = (p > start_bin) & (p < end_bin)\n",
      "    p_dist.append(num_in_bin.sum())\n"
     ],
     "language": "python",
     "metadata": {},
     "outputs": [],
     "prompt_number": 64
    },
    {
     "cell_type": "code",
     "collapsed": false,
     "input": [
      "# JUMPING THE GUN -- PLOT THE DATA\n",
      "plt.plot(p_dist)\n",
      "plt.title('probablility dist of P')\n",
      "plt.show()\n"
     ],
     "language": "python",
     "metadata": {},
     "outputs": [
      {
       "metadata": {},
       "output_type": "display_data",
       "png": "[encoded data removed]",
       "text": [
        "<matplotlib.figure.Figure at 0x5319750>"
       ]
      }
     ],
     "prompt_number": 66
    },
    {
     "cell_type": "heading",
     "level": 3,
     "metadata": {},
     "source": [
      "THE END"
     ]
    }
   ],
   "metadata": {}
  }
 ]
}