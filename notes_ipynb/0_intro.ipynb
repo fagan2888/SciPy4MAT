{
 "metadata": {
  "name": ""
 },
 "nbformat": 3,
 "nbformat_minor": 0,
 "worksheets": [
  {
   "cells": [
    {
     "cell_type": "heading",
     "level": 1,
     "metadata": {},
     "source": [
      "A Quick Introduction to Scientific Python"
     ]
    },
    {
     "cell_type": "markdown",
     "metadata": {},
     "source": [
      "**NOTE:** to run cells press *[shift + enter]*; *[TAB]* to autocomplete. For more shortcuts: *[ctrl + m : h]*\n",
      "\n",
      "#### Contents:\n",
      "1. [Example Script](#Example-Script)  - A script with comments that explain differences with MATLAB\n",
      "  1. [Importing modules/functions](#Importing-packages/modules)\n",
      "  2. [Functions in python](#Functions-in-python)\n",
      "  3. [Indentation](#Indentation)\n",
      "  4. [Indexing](#Indexing)\n",
      "  5. [Loops](#Loops)\n",
      "2. [Installing a Package](#Install-Package)\n",
      "3. [Data Types](#Data-Types)\n",
      "4. [Enter *Numpy*](#Enter-numpy) \n",
      "\n",
      "**TASKS**\n",
      "\n",
      "+ [Task 0.1](#task01)\n",
      "+ [Task 0.2](#task02)"
     ]
    },
    {
     "cell_type": "heading",
     "level": 2,
     "metadata": {},
     "source": [
      "Example Script"
     ]
    },
    {
     "cell_type": "code",
     "collapsed": false,
     "input": [
      "# Preamble\n",
      "import os                   # imports operating system functions\n",
      "\n",
      "\n",
      "# defining functions\n",
      "def happy_birthday(name):   # function song = happy_birthday(name)\n",
      "    \n",
      "    song = ''               # create an empty string to append\n",
      "    for i in range(4):      # for i = 1:4\n",
      "        if i != 2:          # if  i ~= 3\n",
      "            song += 'Happy birthday to you\\n' \n",
      "                            # \\n is a newline char\n",
      "        else:               # strings rock in python! so much easier than MATLAB\n",
      "            song += 'Happy birthday dear %s\\n' % name\n",
      "                            # no end for loops! indentation is NB!\n",
      "    return song             # the function is exited when return is reached\n",
      "\n",
      "\n",
      "# run functions\n",
      "song = happy_birthday('Luke') # prints output vs. ; to suppress output\n",
      "print song"
     ],
     "language": "python",
     "metadata": {},
     "outputs": [
      {
       "output_type": "stream",
       "stream": "stdout",
       "text": [
        "Happy birthday to you\n",
        "Happy birthday to you\n",
        "Happy birthday dear Luke\n",
        "Happy birthday to you\n",
        "\n"
       ]
      }
     ],
     "prompt_number": 1
    },
    {
     "cell_type": "heading",
     "level": 4,
     "metadata": {},
     "source": [
      "Importing packages/modules"
     ]
    },
    {
     "cell_type": "markdown",
     "metadata": {},
     "source": [
      "In MATLAB you would typically set the path to a new package. After this you have access to the tools in that folder. In python one has to explicity import modules even if the path has already been added. Below is the preamble where I've imported some of the modules that I would typically use in a script to import a text file. To see what functions there are in the module run the preamble by selecting it and pressing *[shift + enter]*"
     ]
    },
    {
     "cell_type": "heading",
     "level": 4,
     "metadata": {},
     "source": [
      "Functions in python"
     ]
    },
    {
     "cell_type": "markdown",
     "metadata": {},
     "source": [
      "In Python the functions have to be defined before you call them. So the main part is always at the end. Functions are also defined by \"def\". The output is not written in the def part, but rather given with the \"return\" command at the end of a loop. "
     ]
    },
    {
     "cell_type": "heading",
     "level": 4,
     "metadata": {},
     "source": [
      "Indentation "
     ]
    },
    {
     "cell_type": "markdown",
     "metadata": {},
     "source": [
      "Indentation is important in Python. This means that functions, for, while and if statements/loops are not \"ended\". The indentation simply sets this. This makes Python very easy to read with very little redundency. When loops get long, it can be tricky to see what belongs to which loop. A good Integrated Development Environment (IDE) should have indentation guides to make your life easier. \n",
      "\n",
      "Standard practice in Python is 4 spaces, never tabs. Most IDEs will let you put in spaces instead of tabs"
     ]
    },
    {
     "cell_type": "heading",
     "level": 4,
     "metadata": {},
     "source": [
      "Indexing"
     ]
    },
    {
     "cell_type": "markdown",
     "metadata": {},
     "source": [
      "\n",
      "Indexing **starts from 0** like most other languages. **[ ]** are for indexing VS **( )** which are used to call functions"
     ]
    },
    {
     "cell_type": "heading",
     "level": 4,
     "metadata": {},
     "source": [
      "Loops"
     ]
    },
    {
     "cell_type": "markdown",
     "metadata": {},
     "source": [
      "Loops in both MATLAB and Python iterate over an object. Though this becomes more apparent in Python due to syntax where loops take the form:\n",
      "\n",
      "`for i in iterable:\n",
      "    print i`\n",
      "\n",
      "Note the following:\n",
      "\n",
      "1. iterate over objects, i.e. run through an item in a list/array/generator. A useful package to look at is `itertools`.\n",
      "2. **`:`** after the initialisation line\n",
      "3. no `end` statement"
     ]
    },
    {
     "cell_type": "heading",
     "level": 2,
     "metadata": {},
     "source": [
      "Install Package"
     ]
    },
    {
     "cell_type": "markdown",
     "metadata": {},
     "source": [
      "To install a new package in python you'll need something called *pip*, which comes preinstalled with the Anaconda dist of Python. pip is run from the terminal. An example is shown below. pip accesses the Python Package Index (https://pypi.python.org/pypi)\n",
      "\n",
      "Passing arguements to the system can be done with either os.system('command') or !command. Both cases below result in the same answer\n"
     ]
    },
    {
     "cell_type": "code",
     "collapsed": false,
     "input": [
      "# when using !, raw stdout is printed to your python output. \n",
      "# !pip install seawater\n",
      "# alternative to !\n",
      "os.system('pip install seawater')  \n",
      "\n",
      "# we may have to install this manually - ask for some help.\n",
      "import seawater as sea # you can import long_name as ln to make your life easier"
     ],
     "language": "python",
     "metadata": {},
     "outputs": [],
     "prompt_number": 3
    },
    {
     "cell_type": "markdown",
     "metadata": {},
     "source": [
      "Now to see what you can do with the module type *sea.[TAB]*. A popup box of options should appear. In IPython Notebook, if you type a function and open round bracket and press tab"
     ]
    },
    {
     "cell_type": "code",
     "collapsed": false,
     "input": [
      "sea.              # tab here\n",
      "sea.dens0(        # tab x4 here"
     ],
     "language": "python",
     "metadata": {},
     "outputs": [
      {
       "ename": "SyntaxError",
       "evalue": "invalid syntax (<ipython-input-2-ef319ba2c7bc>, line 1)",
       "output_type": "pyerr",
       "traceback": [
        "\u001b[1;36m  File \u001b[1;32m\"<ipython-input-2-ef319ba2c7bc>\"\u001b[1;36m, line \u001b[1;32m1\u001b[0m\n\u001b[1;33m    sea.              # tab here\u001b[0m\n\u001b[1;37m                                ^\u001b[0m\n\u001b[1;31mSyntaxError\u001b[0m\u001b[1;31m:\u001b[0m invalid syntax\n"
       ]
      }
     ],
     "prompt_number": 2
    },
    {
     "cell_type": "heading",
     "level": 2,
     "metadata": {},
     "source": [
      "Data Types"
     ]
    },
    {
     "cell_type": "markdown",
     "metadata": {},
     "source": [
      "Raw python is actually not very flexible, but it's important to know how it behaves! Other packages like numpy use these basic data types, so it's important to know what they do and how they behave. Below is a little script that makes use of some of the data types. "
     ]
    },
    {
     "cell_type": "code",
     "collapsed": false,
     "input": [
      "s = [34.6, 34.8, 35.7]  # LIST of salinity values - can later be altered\n",
      "s[-1] = 35.1            # FLOAT\n",
      "t = (10.5, 14.3, 18.1)  # TUPLES - cannot be changed\n",
      "\n",
      "# try the same for tuple... \n",
      "dens = sea.dens0(s, t)\n",
      "\n",
      "print 'salt \\t temp \\t dens'\n",
      "for i in range(len(s)):\n",
      "    print '%.1f \\t %.1f \\t %.1f' % (s[i], t[i], dens[i])"
     ],
     "language": "python",
     "metadata": {},
     "outputs": [
      {
       "output_type": "stream",
       "stream": "stdout",
       "text": [
        "salt \t temp \t dens\n",
        "34.6 \t 10.5 \t 1026.6\n",
        "34.8 \t 14.3 \t 1026.0\n",
        "35.1 \t 18.1 \t 1025.3\n"
       ]
      }
     ],
     "prompt_number": 7
    },
    {
     "cell_type": "markdown",
     "metadata": {},
     "source": [
      "**<a name=taks01>TASK 0.1</a>:** standardize each temp value to a salinity of 34.5"
     ]
    },
    {
     "cell_type": "code",
     "collapsed": false,
     "input": [
      "# YOUR CODE HERE\n",
      "output = []\n",
      "print output\n",
      "# temp_meas / salt_meas * 34.5\n",
      "for i in range(10):\n",
      "    #do your thing here\n",
      "    output.append(i)\n",
      "print output"
     ],
     "language": "python",
     "metadata": {},
     "outputs": [
      {
       "output_type": "stream",
       "stream": "stdout",
       "text": [
        "[]\n",
        "[0, 1, 2, 3, 4, 5, 6, 7, 8, 9]\n"
       ]
      }
     ],
     "prompt_number": 15
    },
    {
     "cell_type": "heading",
     "level": 2,
     "metadata": {},
     "source": [
      "Enter *numpy*"
     ]
    },
    {
     "cell_type": "markdown",
     "metadata": {},
     "source": [
      "this package is used in scientific computing to make python behave more like MATLAB. Though we have to explicitly tell Python that we want to create a numpy *array*, which is equivalent to a MATLAB vector\n",
      "\n",
      "Note that numpy arrays are not seen by Python as matricies. You have to explicitly define these too. However, this means that when performing scalar operations all we need is a [ **\\*** ] instead of [ **.*** ]\n",
      "\n",
      "Numpy arrays can also contain strings! this is amazing when reading files into Python. "
     ]
    },
    {
     "cell_type": "code",
     "collapsed": false,
     "input": [
      "import numpy as np \n",
      "import itertools as itt\n",
      "import os \n",
      "\n",
      "print os.getcwd()\n",
      "\n",
      "os.chdir('D:\\\\Dropbox\\\\Scripts\\\\SciPy4MAT')\n",
      "from exercise_tools import print_sublists, avail_methods\n",
      "\n",
      "print type(t)\n",
      "# The function below just lists methods\n",
      "avail_methods(dir(t))\n",
      "\n",
      "t_ndarr = np.array(t)    # we tell Python we want s to be a numpy array object\n",
      "print \n",
      "\n",
      "print type(t_ndarr)\n",
      "# The function below just lists methods\n",
      "\n",
      "avail_methods(dir(t_ndarr))"
     ],
     "language": "python",
     "metadata": {},
     "outputs": [
      {
       "output_type": "stream",
       "stream": "stdout",
       "text": [
        "D:\\Dropbox\\Scripts\\SciPy4MAT\n",
        "<type 'tuple'>\n",
        "['count', 'index']\n",
        "\n",
        "<type 'numpy.ndarray'>\n",
        "['T', 'all', 'any', 'argmax', 'argmin', 'argsort', 'astype', 'base', 'byteswap', 'choose', 'clip', 'compress', 'conj', 'conjugate', 'copy', 'ctypes', 'cumprod', 'cumsum', 'data', 'diagonal', 'dot', 'dtype', 'dump', 'dumps', 'fill', 'flags', 'flat', 'flatten', 'getfield', 'imag', 'item', 'itemset', 'itemsize', 'max', 'mean', 'min', 'nbytes', 'ndim', 'newbyteorder', 'nonzero', 'prod', 'ptp', 'put', 'ravel', 'real', 'repeat', 'reshape', 'resize', 'round', 'searchsorted', 'setfield', 'setflags', 'shape', 'size', 'sort', 'squeeze', 'std', 'strides', 'sum', 'swapaxes', 'take', 'tofile', 'tolist', 'tostring', 'trace', 'transpose', 'var', 'view']\n"
       ]
      }
     ],
     "prompt_number": 22
    },
    {
     "cell_type": "markdown",
     "metadata": {},
     "source": [
      "**<a name=task02>TASK 0.2:</a>** standardize temperature again, but this time use `t_ndarr` as your input. Use vectorisation and not loops. We'll go into this in more detail in the next course"
     ]
    },
    {
     "cell_type": "code",
     "collapsed": false,
     "input": [
      "# YOUR CODE HERE\n",
      "\n",
      "\n",
      "\n",
      "\n"
     ],
     "language": "python",
     "metadata": {},
     "outputs": [],
     "prompt_number": 37
    },
    {
     "cell_type": "heading",
     "level": 3,
     "metadata": {},
     "source": [
      "The End"
     ]
    }
   ],
   "metadata": {}
  }
 ]
}