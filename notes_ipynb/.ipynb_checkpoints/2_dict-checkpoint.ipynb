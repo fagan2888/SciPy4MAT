{
 "cells": [
  {
   "cell_type": "markdown",
   "metadata": {},
   "source": [
    "# DICTIONARIES"
   ]
  },
  {
   "cell_type": "markdown",
   "metadata": {},
   "source": [
    "In this lesson we'll look at dictionaries, a datatype to which there is no direct equivalent in MATLAB. The basic concept of a dictionary (`dict`) is that you can enter values that have a name, by which they can be called. \n",
    "\n",
    "**Contents:**\n",
    "\n",
    "1. [Creating a dictionary](#Creating-a-dict)\n",
    "2. [Accessing data](#Accessing-data-in-dictionaries)\n",
    "3. [Special dictionary tricks](#Special-dictionary-tricks)\n",
    "\n",
    "**TASKS:**\n",
    "\n",
    "+ [TASK 2.1](#task21) - combine dictionaries\n",
    "+ [TASK 2.2](#task22) - create a class from a dictionary"
   ]
  },
  {
   "cell_type": "code",
   "execution_count": 2,
   "metadata": {
    "collapsed": false
   },
   "outputs": [],
   "source": [
    "import numpy as np\n"
   ]
  },
  {
   "cell_type": "markdown",
   "metadata": {},
   "source": [
    "### Creating a `dict`"
   ]
  },
  {
   "cell_type": "markdown",
   "metadata": {},
   "source": [
    "Dictionaries are initialised using curly braces. Once you've defined the dictionaries you can add entries. Entries have two parts: `key` and `value`. `Keys` are the pointers to the `value` and are strings. This is very useful for keeping track of your variables if you are importing lots of data from different sources."
   ]
  },
  {
   "cell_type": "code",
   "execution_count": 3,
   "metadata": {
    "collapsed": false
   },
   "outputs": [
    {
     "name": "stdout",
     "output_type": "stream",
     "text": [
      "{'int': 5, 'float': 1.0, 'string': 'you can store any data in a dictionary - same as a list', 'ndarray': array([[ 0.90850029,  0.4578464 ],\n",
      "       [ 0.74004454,  0.10211153]])}\n"
     ]
    }
   ],
   "source": [
    "data1 = {}\n",
    "data1['float'] = 1.\n",
    "data1['int'] = 5\n",
    "data1['string'] = 'you can store any data in a dictionary - same as a list'\n",
    "data1['ndarray'] = np.random.rand(2, 2)\n",
    "print data1"
   ]
  },
  {
   "cell_type": "markdown",
   "metadata": {},
   "source": [
    "A **second way** of initialising a dictionary is by directly entering data"
   ]
  },
  {
   "cell_type": "code",
   "execution_count": 4,
   "metadata": {
    "collapsed": false
   },
   "outputs": [
    {
     "name": "stdout",
     "output_type": "stream",
     "text": [
      "{'functions': <function sum at 0x10c5a70c8>, 'dic tionary': {'more_data': [25, 35, 45]}}\n"
     ]
    }
   ],
   "source": [
    "data2 = {'dic tionary':{'more_data':[25, 35, 45]}, 'functions': np.sum}\n",
    "print data2"
   ]
  },
  {
   "cell_type": "markdown",
   "metadata": {},
   "source": [
    "And a __third way__ is to use an existing data array and pass it to the `dict` command"
   ]
  },
  {
   "cell_type": "code",
   "execution_count": 5,
   "metadata": {
    "collapsed": false
   },
   "outputs": [
    {
     "name": "stdout",
     "output_type": "stream",
     "text": [
      "[array([0, 1, 2, 3, 4, 5, 6, 7, 8, 9]), array([100,  90,  80,  70,  60,  50,  40,  30,  20,  10])]\n",
      "\n",
      "[('first', array([0, 1, 2, 3, 4, 5, 6, 7, 8, 9])), ('second', array([100,  90,  80,  70,  60,  50,  40,  30,  20,  10]))]\n",
      "\n",
      "{'second': array([100,  90,  80,  70,  60,  50,  40,  30,  20,  10]), 'first': array([0, 1, 2, 3, 4, 5, 6, 7, 8, 9])}\n"
     ]
    }
   ],
   "source": [
    "keys = ['first', 'second']\n",
    "values = [np.arange(10), np.arange(100, 0, -10)]\n",
    "print values\n",
    "\n",
    "temp = zip(keys, values)\n",
    "print\n",
    "print temp\n",
    "\n",
    "data3 = dict(temp)\n",
    "\n",
    "print \n",
    "print data3"
   ]
  },
  {
   "cell_type": "markdown",
   "metadata": {},
   "source": [
    "### Accessing data in dictionaries"
   ]
  },
  {
   "cell_type": "markdown",
   "metadata": {},
   "source": [
    "Once you've created a dictionary, or imported a dictionary, you'd like to be able to see all the key intries. To do this use the `keys` method. To access all the data, use `values`. Both outputs are returned as lists. It is important to know that *DICTIONARIES TO NOT PRESERVE ORDER*, only keys are kept"
   ]
  },
  {
   "cell_type": "code",
   "execution_count": 9,
   "metadata": {
    "collapsed": false
   },
   "outputs": [
    {
     "name": "stdout",
     "output_type": "stream",
     "text": [
      "['second', 'first']\n",
      "\n",
      "[array([100,  90,  80,  70,  60,  50,  40,  30,  20,  10]), array([0, 1, 2, 3, 4, 5, 6, 7, 8, 9])]\n",
      "\n",
      "['__class__', '__cmp__', '__contains__', '__delattr__', '__delitem__', '__doc__', '__eq__', '__format__', '__ge__', '__getattribute__', '__getitem__', '__gt__', '__hash__', '__init__', '__iter__', '__le__', '__len__', '__lt__', '__ne__', '__new__', '__reduce__', '__reduce_ex__', '__repr__', '__setattr__', '__setitem__', '__sizeof__', '__str__', '__subclasshook__', 'clear', 'copy', 'fromkeys', 'get', 'has_key', 'items', 'iteritems', 'iterkeys', 'itervalues', 'keys', 'pop', 'popitem', 'setdefault', 'update', 'values', 'viewitems', 'viewkeys', 'viewvalues']\n"
     ]
    }
   ],
   "source": [
    "print data3.keys()\n",
    "print\n",
    "print data3.values()\n",
    "print '\\n',\n",
    "print [item for item in dir(dict)]\n"
   ]
  },
  {
   "cell_type": "markdown",
   "metadata": {},
   "source": [
    "**<a name=task21>TASK 2.1:</a>** Take all three dictionaries created in the last section and combine them into one called `data`. Not a nested dictionary, but one where you can call all data in the first level."
   ]
  },
  {
   "cell_type": "code",
   "execution_count": 48,
   "metadata": {
    "collapsed": false
   },
   "outputs": [],
   "source": [
    "data = {}\n",
    "data['ind'] = np.where(data3['second'] > 30)\n",
    "\n",
    "# YOUR CODE HERE\n",
    "# HINT: data.update\n",
    "\n",
    "for dictionary in [data1, data2, data3]:\n",
    "    \n",
    "    data.update(dictionary)\n",
    "    \n",
    "    for name in dictionary.keys():\n",
    "        data[name] = dictionary[name]"
   ]
  },
  {
   "cell_type": "markdown",
   "metadata": {},
   "source": [
    "### Special dictionary tricks"
   ]
  },
  {
   "cell_type": "markdown",
   "metadata": {},
   "source": [
    "It's possible to move the entries of a dictionary into the `__main__` namespace. This is really useful, as netcdf's are often imported as dictionaries"
   ]
  },
  {
   "cell_type": "code",
   "execution_count": 55,
   "metadata": {
    "collapsed": false
   },
   "outputs": [],
   "source": [
    "globals().update(data3)"
   ]
  },
  {
   "cell_type": "markdown",
   "metadata": {},
   "source": [
    "If you'd like to preserve heirarchy and easily access any data, you can convert your data to an object, where the entries will be methods. This is the same concept as `numpy.sum`, but instead of `sum` we can have an `ndarray`. We do this using a new `class` - I'm not going too much into this, but it's just something I use and my knowledge of type of programming is not very good. I just copied this off [Stackoverflow](http://stackoverflow.com/questions/1305532/convert-python-dict-to-object) and have a vague idea of how it works.\n",
    "\n",
    "NOTE: this is very useful in interactive programming with autocomplete (`IPython` and `spyder`). "
   ]
  },
  {
   "cell_type": "code",
   "execution_count": 57,
   "metadata": {
    "collapsed": false
   },
   "outputs": [],
   "source": [
    "class obj(object):\n",
    "    def __init__(self, d):\n",
    "        for a, b in d.items():\n",
    "            if isinstance(b, (list, tuple)):\n",
    "               setattr(self, a, [obj(x) if isinstance(x, dict) else x for x in b])\n",
    "            else:\n",
    "               setattr(self, a, obj(b) if isinstance(b, dict) else b)\n"
   ]
  },
  {
   "cell_type": "markdown",
   "metadata": {},
   "source": [
    "**<a name=task22>TASK 2.2: </a>** Pass the dictionary `data` you've created to the class `obj` and experiment with the object to see how it works"
   ]
  },
  {
   "cell_type": "code",
   "execution_count": 67,
   "metadata": {
    "collapsed": false
   },
   "outputs": [
    {
     "data": {
      "text/plain": [
       "8"
      ]
     },
     "execution_count": 67,
     "metadata": {},
     "output_type": "execute_result"
    }
   ],
   "source": [
    "# YOUR CODE HERE\n",
    "\n",
    "dat = obj(data3)\n",
    "dat.first[-2]\n"
   ]
  }
 ],
 "metadata": {
  "kernelspec": {
   "display_name": "Python 2",
   "language": "python",
   "name": "python2"
  },
  "language_info": {
   "codemirror_mode": {
    "name": "ipython",
    "version": 2
   },
   "file_extension": ".py",
   "mimetype": "text/x-python",
   "name": "python",
   "nbconvert_exporter": "python",
   "pygments_lexer": "ipython2",
   "version": "2.7.9"
  }
 },
 "nbformat": 4,
 "nbformat_minor": 0
}
